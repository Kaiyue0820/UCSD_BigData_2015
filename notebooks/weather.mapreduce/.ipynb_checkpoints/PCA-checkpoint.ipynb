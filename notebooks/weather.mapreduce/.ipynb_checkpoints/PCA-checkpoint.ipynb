{
 "metadata": {
  "name": "",
  "signature": "sha256:0ad20e6e3c9e9da0fae56c2a761b7e07ad8cc8f43efad5258d8169cb311744e0"
 },
 "nbformat": 3,
 "nbformat_minor": 0,
 "worksheets": [
  {
   "cells": [
    {
     "cell_type": "code",
     "collapsed": false,
     "input": [
      "!ls *.py"
     ],
     "language": "python",
     "metadata": {},
     "outputs": [
      {
       "output_type": "stream",
       "stream": "stdout",
       "text": [
        "ECatch.py              \u001b[31mStatistics.py\u001b[m\u001b[m          mr_weather.py          \u001b[31mreduce-year-temp.py\u001b[m\u001b[m\r\n",
        "Stations_Statistics.py \u001b[31mmap-year-temp.py\u001b[m\u001b[m       mr_word_freq_count.py\r\n"
       ]
      }
     ],
     "prompt_number": 1
    },
    {
     "cell_type": "code",
     "collapsed": false,
     "input": [
      "%load Statistics.py"
     ],
     "language": "python",
     "metadata": {},
     "outputs": [],
     "prompt_number": 2
    },
    {
     "cell_type": "code",
     "collapsed": false,
     "input": [
      "%%writefile Statistics2.py\n",
      "\"\"\"\n",
      "A module for computing simple statistics - mean, variance, covariance\n",
      "s1: First order Statistics for a matrix random variable (a numpy array)\n",
      "s2: Second order Statistics for a vector random variable.\n",
      "\"\"\"\n",
      "from numpy import *\n",
      "from random import random\n",
      "import sys,copy,traceback\n",
      "import pandas as pd\n",
      "\n",
      "class s:\n",
      "    \"\"\" compute the mean of matrices (have to be of same size) \"\"\"\n",
      "    def __init__(self,mat):\n",
      "        self.reset(mat)\n",
      "        \n",
      "    def reset(self,mat):\n",
      "        self.n=pd.DataFrame(np.zeros(shape(mat)))\n",
      "        self.sum=pd.DataFrame(np.zeros(shape(mat)))\n",
      "        \n",
      "    def accum(self,value):\n",
      "        \"\"\" Add a value to the statistics \"\"\"\n",
      "        if shape(value) != shape(self.sum):\n",
      "            raise Exception('in s.accum: shape of value:'+str(shape(value))+\\\n",
      "                            ' is not equal to shape of sum:'+str(shape(self.sum)))\n",
      "        if type(value)!=pd.core.frame.DataFrame:\n",
      "            value=pd.DataFrame(data=value)\n",
      "        self.sum+=value.fillna(0)\n",
      "        self.n+=(1-isnan(value))\n",
      "\n",
      "    def compute(self):\n",
      "        \"\"\" Returns the counts and the means for each entry \"\"\"\n",
      "        self.mean = self.sum / self.n\n",
      "        return (self.n,self.mean)\n",
      "\n",
      "    def add(self,other):\n",
      "        \"\"\" add two statistics \"\"\"\n",
      "        self.n += other.n\n",
      "        self.sum += other.sum\n",
      "\n",
      "class VecStat:\n",
      "    \"\"\" Compute first and second order statistics of vectors of a fixed size n \"\"\"\n",
      "    def __init__(self,n):\n",
      "        self.n=n\n",
      "        self.reset()\n",
      "        # Create a vector of length n and a matrix of size nXn\n",
      " \n",
      "    def reset(self):\n",
      "        n=self.n\n",
      "        self.V=s(zeros(n))\n",
      "        self.Cov=s(zeros([n,n]))\n",
      "        \n",
      "    def accum(self,U):\n",
      "        \"\"\" accumulate statistics:\n",
      "        U: a pandas series containing n floats (or nan)\n",
      "        \"\"\"\n",
      "        #check the length of U\n",
      "        if len(U) != self.n :\n",
      "            error='in Statistics.secOrdStat.accum: length of V='+str(self.n)+' not equal to length of U='+str(len(U))+'/n'\n",
      "            sys.stderr.write(error)\n",
      "            raise StandardError, error\n",
      "        #check if U has the correct type\n",
      "        if type(U) != pd.core.frame.DataFrame:\n",
      "            error='in Statistics.secOrdStat.accum: type of U=',type(U),', it should be pandas.core.frame.DataFrame'\n",
      "            sys.stderr.write(error)\n",
      "            raise StandardError, error\n",
      "        else:\n",
      "            #do the work\n",
      "            self.V.accum(U)\n",
      "            self.Cov.accum(np.outer(U,U))\n",
      "            \n",
      "    def compute(self,k=5):\n",
      "        \"\"\"\n",
      "        Compute the statistics. k (default 5) is the number of eigenvalues that are kept\n",
      "        \"\"\"\n",
      "\n",
      "        # Compute mean vector\n",
      "        (countV,meanV)=self.V.compute()\n",
      "\n",
      "        # Compute covariance matrix\n",
      "        (countC,meanC)=self.Cov.compute()\n",
      "        cov=meanC-np.outer(meanV,meanV)\n",
      "        std=[cov.ix[i,i] for i in range(shape(self.Cov.sum)[0])]\n",
      "        try:\n",
      "            (eigvalues,eigvectors)=linalg.eig(cov)\n",
      "            order=argsort(-abs(eigvalues))\t# indexes of eigenvalues from largest to smallest\n",
      "            eigvalues=eigvalues[order]\t\t# order eigenvalues\n",
      "            eigvectors=eigvectors[order]\t# order eigenvectors\n",
      "            eigvectors=eigvectors[1:k]\t\t# keep only top k eigen-vectors\n",
      "            for v in eigvectors:\n",
      "                v=v[order]     # order the elements in each eigenvector\n",
      "\n",
      "        except Exception,e:\n",
      "            exc_type, exc_value, exc_traceback = sys.exc_info()\n",
      "            traceback.print_exception(exc_type, exc_value, exc_traceback,limit=2, file=sys.stderr)\n",
      "            \n",
      "            eigvalues=None\n",
      "            eigvectors=None\n",
      "        return {'count':self.V.n,'mean':meanV,'std':std,'eigvalues':eigvalues,'eigvectors':eigvectors}\n",
      "        \n",
      "    def add(self, other):\n",
      "        \"\"\" add the statistics of s into self \"\"\"\n",
      "        self.V.add(other.V)\n",
      "        self.Cov.add(other.Cov)\n"
     ],
     "language": "python",
     "metadata": {},
     "outputs": [
      {
       "output_type": "stream",
       "stream": "stdout",
       "text": [
        "Overwriting Statistics2.py\n"
       ]
      }
     ],
     "prompt_number": 258
    },
    {
     "cell_type": "code",
     "collapsed": false,
     "input": [
      "for i in range(10):\n",
      "    X=pd.DataFrame(data=rand(5))\n",
      "    X.ix[i % 5,0]=nan\n",
      "    X.ix[1,0]=nan\n",
      "    Vstat.accum(X)"
     ],
     "language": "python",
     "metadata": {},
     "outputs": [],
     "prompt_number": 244
    },
    {
     "cell_type": "code",
     "collapsed": false,
     "input": [
      "import pickle\n",
      "pickle.dump(Vstat,open('Vstat.pkl','wb'))"
     ],
     "language": "python",
     "metadata": {},
     "outputs": [],
     "prompt_number": 247
    },
    {
     "cell_type": "code",
     "collapsed": false,
     "input": [
      "VV=pickle.load(open('Vstat.pkl','rb'))"
     ],
     "language": "python",
     "metadata": {},
     "outputs": [],
     "prompt_number": 248
    },
    {
     "cell_type": "code",
     "collapsed": false,
     "input": [
      "Vstat.add(VV)"
     ],
     "language": "python",
     "metadata": {},
     "outputs": [],
     "prompt_number": 256
    },
    {
     "cell_type": "code",
     "collapsed": false,
     "input": [],
     "language": "python",
     "metadata": {},
     "outputs": []
    }
   ],
   "metadata": {}
  }
 ]
}