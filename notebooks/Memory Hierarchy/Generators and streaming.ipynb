{
 "cells": [
  {
   "cell_type": "markdown",
   "metadata": {},
   "source": [
    "## Information about hardware"
   ]
  },
  {
   "cell_type": "code",
   "execution_count": 65,
   "metadata": {
    "collapsed": false
   },
   "outputs": [
    {
     "name": "stdout",
     "output_type": "stream",
     "text": [
      "cat: /proc/cpuinfo: No such file or directory\n",
      "cat: /proc/meminfo: No such file or directory\n",
      "In [65] used 0.0000 MiB RAM in 0.34s, peaked 0.00 MiB above current, total RAM usage 597.55 MiB\n"
     ]
    }
   ],
   "source": [
    "#System Profile for Ubuntu\n",
    "!cat /proc/cpuinfo > cpuinfo\n",
    "!cat /proc/meminfo > meminfo"
   ]
  },
  {
   "cell_type": "code",
   "execution_count": 61,
   "metadata": {
    "collapsed": false
   },
   "outputs": [
    {
     "name": "stdout",
     "output_type": "stream",
     "text": [
      "2015-03-26 11:47:38.796 system_profiler[26629:2528362] httpdEnabled is deprecated !!\n",
      "In [61] used -0.2500 MiB RAM in 12.40s, peaked 0.25 MiB above current, total RAM usage 597.56 MiB\n"
     ]
    }
   ],
   "source": [
    "#System Profile for apple OS-X\n",
    "!system_profiler -detailLevel basic > system_profiler.out"
   ]
  },
  {
   "cell_type": "code",
   "execution_count": 64,
   "metadata": {
    "collapsed": false
   },
   "outputs": [
    {
     "data": {
      "text/plain": [
       "3.7037037037037036e-10"
      ]
     },
     "execution_count": 64,
     "metadata": {},
     "output_type": "execute_result"
    },
    {
     "name": "stdout",
     "output_type": "stream",
     "text": [
      "In [64] used 0.0000 MiB RAM in 0.11s, peaked 0.00 MiB above current, total RAM usage 597.55 MiB\n"
     ]
    }
   ],
   "source": [
    "1/(2.7e9)"
   ]
  },
  {
   "cell_type": "markdown",
   "metadata": {},
   "source": [
    "### System information (After extensive editing)\n",
    "##### %load system_profiler.out\n",
    "Hardware:\n",
    "\n",
    "    Hardware Overview:\n",
    "\n",
    "      Model Name: MacBook Pro\n",
    "      Model Identifier: MacBookPro10,1\n",
    "      Processor Name: Intel Core i7\n",
    "      Processor Speed: 2.7 GHz <<<<<<<<<<<<<<<<<<<<<<<<<<<<<<<<<<<<<<<<<<\n",
    "        2.7GHZ -> 37e-9 second per clock cycle = 37 nano-second.\n",
    "      Number of Processors: 1\n",
    "      Total Number of Cores: 4 <<<<<<<<<<<<<<<<<<<<<<<<<<<<<<<<<<<<<<<<<<\n",
    "      L2 Cache (per Core): 256 KB <<<<<<<<<<<<<<<<<<<<<<<<<<<<<<<<<<<<<<<\n",
    "      L3 Cache: 6 MB <<<<<<<<<<<<<<<<<<<<<<<<<<<<<<<<<<<<<<<<<<<<<<<<<<<<\n",
    "      Memory: 16 GB  <<<<<<<<<<<<<<<<<<<<<<<<<<<<<<<<<<<<<<<<<<<<<<<<<<<<\n",
    "      Boot ROM Version: MBP101.00EE.B07\n",
    "      SMC Version (system): 2.3f36\n",
    "      Serial Number (system): C02L706RFFT1\n",
    "      Hardware UUID: 880C7D91-59BA-536E-AF59-EB9E37365C19\n",
    "\n",
    "SATA/SATA Express:\n",
    "\n",
    "    Intel 7 Series Chipset:\n",
    "\n",
    "      Vendor: Intel\n",
    "      Product: 7 Series Chipset\n",
    "      Link Speed: 6 Gigabit / sec = 0.75 GigaByte / sec\n",
    "      Negotiated Link Speed: 6 Gigabit\n",
    "      Physical Interconnect: SATA\n",
    "      Description: AHCI Version 1.30 Supported\n",
    "\n",
    "        APPLE SSD SD512E:\n",
    "          Capacity: 500.28 GB (500,277,790,720 bytes)   <<<<<<<\n",
    "          Model: APPLE SSD SD512E                       <<<<<<< Solid-State-Disk\n"
   ]
  },
  {
   "cell_type": "code",
   "execution_count": 20,
   "metadata": {
    "collapsed": false
   },
   "outputs": [
    {
     "name": "stdout",
     "output_type": "stream",
     "text": [
      "In [20] used -4625.9961 MiB RAM in 2.24s, peaked 4626.00 MiB above current, total RAM usage 296.91 MiB\n"
     ]
    }
   ],
   "source": [
    "import sys\n",
    "import numpy as np\n",
    "import matplotlib.pyplot as plt\n",
    "%matplotlib inline\n",
    "\n",
    "imu.stop_watching_memory()\n",
    "from time import time\n",
    "import ipython_memory_usage as imu\n",
    "imu.start_watching_memory()"
   ]
  },
  {
   "cell_type": "markdown",
   "metadata": {},
   "source": [
    "### Define dot product function in Python\n",
    "\n",
    "We will compare this function to using np.dot"
   ]
  },
  {
   "cell_type": "code",
   "execution_count": 2,
   "metadata": {
    "collapsed": false
   },
   "outputs": [
    {
     "name": "stdout",
     "output_type": "stream",
     "text": [
      "In [2] used 0.0664 MiB RAM in 0.11s, peaked 0.00 MiB above current, total RAM usage 53.20 MiB\n"
     ]
    }
   ],
   "source": [
    "def python_dot(a,b):\n",
    "    sum=0\n",
    "    for i in range(len(a)):\n",
    "        sum+=a[i]*b[i]\n",
    "    return sum"
   ]
  },
  {
   "cell_type": "markdown",
   "metadata": {},
   "source": [
    "### Experiment 1\n",
    "Compute the running time for data allocation and for computing the dot product as a function of the size of the array"
   ]
  },
  {
   "cell_type": "code",
   "execution_count": 66,
   "metadata": {
    "collapsed": false,
    "scrolled": true
   },
   "outputs": [
    {
     "name": "stdout",
     "output_type": "stream",
     "text": [
      "e= 4 size= 0.00016 GB\t allocation= 1.3279914856e-08 numpy= 5.19752502441e-09 python= 9.8671913147e-07\n",
      "e= 5 size= 0.0016 GB\t allocation= 8.37087631226e-09 numpy= 1.18017196655e-09 python= 9.47449207306e-07\n",
      "e= 6 size= 0.016 GB\t allocation= 6.26802444458e-09 numpy= 1.32489204407e-09 python= 9.33078050613e-07\n",
      "e= 7 size= 0.16 GB\t allocation= 6.57489299774e-09 numpy= 1.10468864441e-09 python= 9.27697300911e-07\n",
      "e= 8 size= 1.6 GB\t allocation= 6.41780138016e-09 numpy= 1.06770992279e-09 python= 0.0\n",
      "CPU times: user 10.3 s, sys: 1.98 s, total: 12.3 s\n",
      "Wall time: 11.2 s\n",
      "In [66] used 1626.1602 MiB RAM in 11.26s, peaked 149.28 MiB above current, total RAM usage 2223.71 MiB\n"
     ]
    }
   ],
   "source": [
    "%%time\n",
    "for e in range(4,9):\n",
    "    L=10**e\n",
    "    start=time()\n",
    "    #a=np.random.uniform(low=-1,high=1,size=(L,2))\n",
    "    a=np.ones([L,2])\n",
    "    t1=time()\n",
    "    np.dot(a[:,0],a[:,1]),\n",
    "    t2=time()\n",
    "    if e<8:\n",
    "        python_dot(a[:,0],a[:,1]),\n",
    "        t3=time()\n",
    "    else:\n",
    "        t3=t2\n",
    "    print 'e=',e,'size=',L*16*1e-9,'GB\\t allocation=',(t1-start)/L,'numpy=',(t2-t1)/L,'python=',(t3-t2)/L\n",
    "    sys.stdout.flush()"
   ]
  },
  {
   "cell_type": "code",
   "execution_count": 14,
   "metadata": {
    "collapsed": false
   },
   "outputs": [
    {
     "name": "stdout",
     "output_type": "stream",
     "text": [
      "write time per element: 5.04795408249e-08\n",
      "-rw-r--r--  1 yoavfreund  staff   1.5G Mar 26 10:23 a.bin\n",
      "CPU times: user 63.8 ms, sys: 2.23 s, total: 2.29 s\n",
      "Wall time: 5.17 s\n",
      "In [14] used 0.0000 MiB RAM in 5.27s, peaked 0.00 MiB above current, total RAM usage 2259.77 MiB\n"
     ]
    }
   ],
   "source": [
    "%%time\n",
    "t1=time()\n",
    "a.tofile('a.bin')\n",
    "t2=time()\n",
    "print 'write time per element:',(t2-t1)/L\n",
    "!ls -lh *.bin"
   ]
  },
  {
   "cell_type": "code",
   "execution_count": 4,
   "metadata": {
    "collapsed": false
   },
   "outputs": [
    {
     "name": "stdout",
     "output_type": "stream",
     "text": [
      "In [4] used -1525.8750 MiB RAM in 0.23s, peaked 1525.88 MiB above current, total RAM usage 389.37 MiB\n"
     ]
    }
   ],
   "source": [
    "# Free memory\n",
    "a=[]"
   ]
  },
  {
   "cell_type": "markdown",
   "metadata": {},
   "source": [
    "### Without memory allocation\n",
    "we can use **generators** to create the vectors on the fly"
   ]
  },
  {
   "cell_type": "code",
   "execution_count": 5,
   "metadata": {
    "collapsed": false
   },
   "outputs": [
    {
     "name": "stdout",
     "output_type": "stream",
     "text": [
      "[0, 1, 2, 3]\n",
      "<generator object range_generator at 0x108732be0>\n",
      "[0, 1, 2, 3]\n",
      "xrange(4)\n",
      "[0, 1, 2, 3]\n",
      "In [5] used 0.0039 MiB RAM in 0.11s, peaked 0.00 MiB above current, total RAM usage 389.38 MiB\n"
     ]
    }
   ],
   "source": [
    "def range_generator(n):\n",
    "    for i in range(n):\n",
    "        yield i\n",
    "print range(4)\n",
    "print range_generator(4)\n",
    "print [i for i in range_generator(4)]\n",
    "print xrange(4)  # predefined generator that is equivalent to range_generator\n",
    "print [i for i in xrange(4)]"
   ]
  },
  {
   "cell_type": "markdown",
   "metadata": {},
   "source": [
    "### Experiement 2\n",
    "compare different ways to genberate vectors and to compute the dot product."
   ]
  },
  {
   "cell_type": "code",
   "execution_count": 21,
   "metadata": {
    "collapsed": false
   },
   "outputs": [
    {
     "name": "stdout",
     "output_type": "stream",
     "text": [
      "80.0 MB\n"
     ]
    },
    {
     "data": {
      "text/plain": [
       "333333283333335000000L"
      ]
     },
     "execution_count": 21,
     "metadata": {},
     "output_type": "execute_result"
    },
    {
     "name": "stdout",
     "output_type": "stream",
     "text": [
      "In [21] used 405.2539 MiB RAM in 1.85s, peaked 0.00 MiB above current, total RAM usage 702.16 MiB\n"
     ]
    }
   ],
   "source": [
    "L=int(1e7) \n",
    "a=range(L)\n",
    "print len(a)*8e-6,'MB'\n",
    "python_dot(a,a)"
   ]
  },
  {
   "cell_type": "markdown",
   "metadata": {},
   "source": [
    "baseline: 80MB used 405.2539 MiB RAM in 1.85s"
   ]
  },
  {
   "cell_type": "code",
   "execution_count": 22,
   "metadata": {
    "collapsed": false
   },
   "outputs": [
    {
     "name": "stdout",
     "output_type": "stream",
     "text": [
      "In [22] used 0.0000 MiB RAM in 0.17s, peaked 0.00 MiB above current, total RAM usage 702.16 MiB\n"
     ]
    }
   ],
   "source": [
    "a=[]"
   ]
  },
  {
   "cell_type": "code",
   "execution_count": 23,
   "metadata": {
    "collapsed": false,
    "scrolled": false
   },
   "outputs": [
    {
     "data": {
      "text/plain": [
       "333333283333335000000L"
      ]
     },
     "execution_count": 23,
     "metadata": {},
     "output_type": "execute_result"
    },
    {
     "name": "stdout",
     "output_type": "stream",
     "text": [
      "In [23] used 0.0000 MiB RAM in 1.96s, peaked 0.00 MiB above current, total RAM usage 702.16 MiB\n"
     ]
    }
   ],
   "source": [
    "python_dot(xrange(L),xrange(L))"
   ]
  },
  {
   "cell_type": "markdown",
   "metadata": {},
   "source": [
    "using the generator xrange: slower, but uses almost no memory: used 0.0000 MiB RAM in 1.96s"
   ]
  },
  {
   "cell_type": "code",
   "execution_count": 24,
   "metadata": {
    "collapsed": false,
    "scrolled": true
   },
   "outputs": [
    {
     "data": {
      "text/plain": [
       "1291890006563070912"
      ]
     },
     "execution_count": 24,
     "metadata": {},
     "output_type": "execute_result"
    },
    {
     "name": "stdout",
     "output_type": "stream",
     "text": [
      "In [24] used 0.0234 MiB RAM in 3.66s, peaked 0.00 MiB above current, total RAM usage 702.18 MiB\n"
     ]
    }
   ],
   "source": [
    "np.dot(xrange(L),xrange(L))"
   ]
  },
  {
   "cell_type": "markdown",
   "metadata": {},
   "source": [
    "Numpy+Xrange: a bad combination: used 0.0234 MiB RAM in 3.66s\n",
    "\n",
    "Numpy operates efficiently on block, not on single elements."
   ]
  },
  {
   "cell_type": "code",
   "execution_count": 25,
   "metadata": {
    "collapsed": false,
    "scrolled": true
   },
   "outputs": [
    {
     "data": {
      "text/plain": [
       "1291890006563070912"
      ]
     },
     "execution_count": 25,
     "metadata": {},
     "output_type": "execute_result"
    },
    {
     "name": "stdout",
     "output_type": "stream",
     "text": [
      "In [25] used 0.0117 MiB RAM in 0.17s, peaked 0.00 MiB above current, total RAM usage 702.20 MiB\n"
     ]
    }
   ],
   "source": [
    "np.dot(np.arange(L),np.arange(L))"
   ]
  },
  {
   "cell_type": "markdown",
   "metadata": {},
   "source": [
    "The winning combination: np.arange is a generator that is compatible with numpy.\n",
    "\n",
    "used 0.0117 MiB RAM in 0.17s"
   ]
  },
  {
   "cell_type": "markdown",
   "metadata": {},
   "source": [
    "### Experiment 3\n",
    "Compare performance of dot product on different sizes of arrays."
   ]
  },
  {
   "cell_type": "code",
   "execution_count": 28,
   "metadata": {
    "collapsed": false,
    "scrolled": true
   },
   "outputs": [
    {
     "name": "stdout",
     "output_type": "stream",
     "text": [
      "e= 1 size= 0.16 KB, numpy= 2.28881835937e-06 python= 9.05990600586e-07\n",
      "e= 2 size= 1.6 KB, numpy= 1.90734863281e-07 python= 2.50339508057e-07\n",
      "e= 3 size= 16.0 KB, numpy= 3.00407409668e-08 python= 2.14099884033e-07\n",
      "e= 4 size= 160.0 KB, numpy= 1.96933746338e-08 python= 1.42407417297e-07\n",
      "e= 5 size= 1600.0 KB, numpy= 3.04937362671e-09 python= 1.49040222168e-07\n",
      "e= 6 size= 16000.0 KB, numpy= 5.68699836731e-09 python= 1.39904022217e-07\n",
      "e= 7 size= 160000.0 KB, numpy= 6.2294960022e-09 python= 1.85083985329e-07\n",
      "e= 8 size= 1600000.0 KB, numpy= 9.56097841263e-09 python= 2.04170720577e-07\n",
      "CPU times: user 22.1 s, sys: 2.9 s, total: 25 s\n",
      "Wall time: 23.5 s\n",
      "In [28] used 0.1289 MiB RAM in 23.56s, peaked 1525.88 MiB above current, total RAM usage 4940.30 MiB\n"
     ]
    }
   ],
   "source": [
    "%%time\n",
    "for e in range(1,9):\n",
    "    L=int(10**e)\n",
    "    t1=time()\n",
    "    np.dot(np.arange(L),np.arange(L))\n",
    "    t2=time()\n",
    "    python_dot(xrange(L),xrange(L)),\n",
    "    t3=time()\n",
    "    print 'e=',e,'size=',L*16*1e-3,'KB, numpy=',(t2-t1)/L,'python=',(t3-t2)/L\n",
    "    sys.stdout.flush()"
   ]
  },
  {
   "cell_type": "code",
   "execution_count": 29,
   "metadata": {
    "collapsed": false
   },
   "outputs": [
    {
     "data": {
      "text/plain": [
       "46.70054730244545"
      ]
     },
     "execution_count": 29,
     "metadata": {},
     "output_type": "execute_result"
    },
    {
     "name": "stdout",
     "output_type": "stream",
     "text": [
      "In [29] used 0.0039 MiB RAM in 0.10s, peaked 0.00 MiB above current, total RAM usage 4940.30 MiB\n"
     ]
    }
   ],
   "source": [
    "1.42407417297e-07 / 3.04937362671e-09"
   ]
  },
  {
   "cell_type": "markdown",
   "metadata": {},
   "source": [
    "The optimal size for numpy.dot is around 1.6MB, smaller is much worse, larger slightly worse (and wastes memory).\n",
    "\n",
    "The optimal for straight python is around 160KB, but performance is a factor of about 50 slower than numpy."
   ]
  },
  {
   "cell_type": "markdown",
   "metadata": {},
   "source": [
    "### Performance as function of chunk size"
   ]
  },
  {
   "cell_type": "code",
   "execution_count": 53,
   "metadata": {
    "collapsed": false
   },
   "outputs": [
    {
     "name": "stdout",
     "output_type": "stream",
     "text": [
      "80000.0 KB\n",
      "chunk sizes: in KB ['8000.00', '4498.73', '2529.82', '1422.62', '800.00', '449.87', '252.98', '142.26', '80.00', '44.99', '25.30', '14.23', '8.00', '4.50', '2.53', '1.42']\n",
      "In [53] used 0.0000 MiB RAM in 0.11s, peaked 0.00 MiB above current, total RAM usage 665.25 MiB\n"
     ]
    }
   ],
   "source": [
    "L=int(10**7)\n",
    "vals=np.arange(1,5,0.25)\n",
    "print L*8e-3,'KB'\n",
    "chunks=[8e-3*L*10**(-e) for e in vals]\n",
    "print 'chunk sizes: in KB',['%4.2f'%c for c in chunks]"
   ]
  },
  {
   "cell_type": "code",
   "execution_count": 57,
   "metadata": {
    "collapsed": false,
    "scrolled": true
   },
   "outputs": [
    {
     "name": "stdout",
     "output_type": "stream",
     "text": [
      "1000000 4.51099872589e-09\n",
      "562341 4.31621074677e-09\n",
      "316227 4.57119941711e-09\n",
      "177827 2.28788852692e-09\n",
      "100000 2.23000049591e-09\n",
      "56234 2.34980583191e-09\n",
      "31622 3.5413980484e-09\n",
      "17782 2.6006937027e-09\n",
      "10000 2.86991596222e-09\n",
      "5623 3.03640365601e-09\n",
      "3162 4.11989688873e-09\n",
      "1778 4.99861240387e-09\n",
      "1000 6.99260234833e-09\n",
      "562 1.10661029816e-08\n",
      "316 1.7968583107e-08\n",
      "177 3.05235862732e-08\n",
      "CPU times: user 1.07 s, sys: 59.6 ms, total: 1.13 s\n",
      "Wall time: 1.12 s\n"
     ]
    },
    {
     "name": "stderr",
     "output_type": "stream",
     "text": [
      "/anaconda/lib/python2.7/site-packages/IPython/kernel/__main__.py:8: RuntimeWarning: overflow encountered in long_scalars\n"
     ]
    },
    {
     "data": {
      "image/png": "[encoded data removed]",
      "text/plain": [
       "<matplotlib.figure.Figure at 0x108be5f90>"
      ]
     },
     "metadata": {},
     "output_type": "display_data"
    },
    {
     "name": "stdout",
     "output_type": "stream",
     "text": [
      "In [57] used 0.0508 MiB RAM in 1.64s, peaked 0.07 MiB above current, total RAM usage 658.62 MiB\n"
     ]
    }
   ],
   "source": [
    "%%time\n",
    "times=[]\n",
    "\n",
    "for e in vals:\n",
    "    chunk=int(L*10**(-e));\n",
    "    t1=time()\n",
    "    S=0\n",
    "    for i in xrange(0,L,chunk):\n",
    "        S+=np.dot(np.arange(i,i+chunk-1),np.arange(i,i+chunk-1))\n",
    "    t2=time()\n",
    "    ratio=(t2-t1)/L\n",
    "    print chunk,ratio\n",
    "    sys.stdout.flush()\n",
    "    times.append(ratio)\n",
    "\n",
    "plt.semilogx(chunks,times)"
   ]
  },
  {
   "cell_type": "code",
   "execution_count": 59,
   "metadata": {
    "collapsed": false
   },
   "outputs": [
    {
     "name": "stdout",
     "output_type": "stream",
     "text": [
      "1000000 1.15132808685e-08\n",
      "562341 1.11243009567e-08\n",
      "316227 1.08478784561e-08\n",
      "177827 9.24439430237e-09\n",
      "100000 9.45911407471e-09\n",
      "56234 9.68780517578e-09\n",
      "31622 1.14502906799e-08\n",
      "17782 1.04062795639e-08\n",
      "10000 1.13759040833e-08\n",
      "5623 1.31870985031e-08\n",
      "3162 1.50849103928e-08\n",
      "1778 2.05402851105e-08\n",
      "1000 3.04449081421e-08\n",
      "562 4.63426828384e-08\n",
      "316 7.66312837601e-08\n",
      "177 1.29512000084e-07\n",
      "CPU times: user 4.25 s, sys: 64.2 ms, total: 4.32 s\n",
      "Wall time: 4.31 s\n"
     ]
    },
    {
     "name": "stderr",
     "output_type": "stream",
     "text": [
      "/anaconda/lib/python2.7/site-packages/IPython/kernel/__main__.py:14: RuntimeWarning: overflow encountered in long_scalars\n"
     ]
    },
    {
     "data": {
      "image/png": "[encoded data removed]",
      "text/plain": [
       "<matplotlib.figure.Figure at 0x104f23790>"
      ]
     },
     "metadata": {},
     "output_type": "display_data"
    },
    {
     "name": "stdout",
     "output_type": "stream",
     "text": [
      "In [59] used 0.0000 MiB RAM in 4.84s, peaked 0.09 MiB above current, total RAM usage 658.62 MiB\n"
     ]
    }
   ],
   "source": [
    "%%time\n",
    "times=[]\n",
    "chunks=[]\n",
    "\n",
    "def selfdot(v):\n",
    "    for i in range(10): #waste time - represents extra calculation\n",
    "        np.dot(v,v)\n",
    "    return np.dot(v,v)\n",
    "\n",
    "for e in vals:\n",
    "    chunk=int(L*10**(-e));\n",
    "    t1=time()\n",
    "    S=0\n",
    "    for i in xrange(0,L,chunk):\n",
    "        S+=selfdot(np.arange(i,i+chunk-1))\n",
    "    t2=time()\n",
    "    ratio=(t2-t1)/L\n",
    "    print chunk,ratio\n",
    "    sys.stdout.flush()\n",
    "    times.append(ratio)\n",
    "    chunks.append(chunk*8e-3)\n",
    "\n",
    "plt.semilogx(chunks,times)\n",
    "plt.xlabel('chunk sizes: in KB')\n",
    "plt.ylabel('execution time per element')"
   ]
  },
  {
   "cell_type": "markdown",
   "metadata": {},
   "source": [
    "### Using multiprocessing/Pool to use all cores."
   ]
  },
  {
   "cell_type": "code",
   "execution_count": 40,
   "metadata": {
    "collapsed": false
   },
   "outputs": [
    {
     "name": "stdout",
     "output_type": "stream",
     "text": [
      "In [40] used 0.0000 MiB RAM in 0.10s, peaked 0.00 MiB above current, total RAM usage 640.73 MiB\n"
     ]
    }
   ],
   "source": [
    "from multiprocessing import Pool"
   ]
  },
  {
   "cell_type": "code",
   "execution_count": 71,
   "metadata": {
    "collapsed": false,
    "scrolled": true
   },
   "outputs": [
    {
     "name": "stdout",
     "output_type": "stream",
     "text": [
      "Pool Size =  1\n",
      "chunk size\t time per element\n",
      "80000000\t\t3.55584e-08\n",
      "44987304\t\t3.43194e-08\n",
      "25298216\t\t3.53918e-08\n",
      "14226232\t\t3.59455e-08\n",
      "8000000\t\t3.47657e-08\n",
      "4498728\t\t3.53454e-08\n",
      "2529816\t\t3.59132e-08\n",
      "1422616\t\t3.45596e-08\n",
      "800000\t\t3.33405e-08\n",
      "449872\t\t3.3418e-08\n",
      "252976\t\t3.57484e-08\n",
      "142256\t\t4.11283e-08\n",
      "80000\t\t3.57194e-08\n",
      "44984\t\t3.54319e-08\n",
      "25296\t\t3.89517e-08\n",
      "14224\t\t4.65416e-08\n",
      "Pool Size =  2\n",
      "chunk size\t time per element\n",
      "80000000\t\t2.78779e-08\n",
      "44987304\t\t2.76055e-08\n",
      "25298216\t\t2.80144e-08\n",
      "14226232\t\t2.64978e-08\n",
      "8000000\t\t2.27976e-08\n",
      "4498728\t\t2.54075e-08\n",
      "2529816\t\t2.50415e-08\n",
      "1422616\t\t2.38488e-08\n",
      "800000\t\t2.36137e-08\n",
      "449872\t\t2.38551e-08\n",
      "252976\t\t2.55728e-08\n",
      "142256\t\t2.89948e-08\n",
      "80000\t\t2.38994e-08\n",
      "44984\t\t2.24628e-08\n",
      "25296\t\t2.33134e-08\n",
      "14224\t\t2.62653e-08\n",
      "Pool Size =  3\n",
      "chunk size\t time per element\n",
      "80000000\t\t2.76002e-08\n",
      "44987304\t\t2.19206e-08\n",
      "25298216\t\t2.54915e-08\n",
      "14226232\t\t2.6115e-08\n",
      "8000000\t\t2.44146e-08\n",
      "4498728\t\t2.34626e-08\n",
      "2529816\t\t2.49959e-08\n",
      "1422616\t\t2.47001e-08\n",
      "800000\t\t2.27552e-08\n",
      "449872\t\t2.49667e-08\n",
      "252976\t\t2.40601e-08\n",
      "142256\t\t2.65959e-08\n",
      "80000\t\t2.2659e-08\n",
      "44984\t\t2.13793e-08\n",
      "25296\t\t2.03371e-08\n",
      "14224\t\t2.73363e-08\n",
      "Pool Size =  4\n",
      "chunk size\t time per element\n",
      "80000000\t\t2.28102e-08\n",
      "44987304\t\t2.24327e-08\n",
      "25298216\t\t2.49773e-08\n",
      "14226232\t\t2.26902e-08\n",
      "8000000\t\t2.20316e-08\n",
      "4498728\t\t2.18847e-08\n",
      "2529816\t\t2.47483e-08\n",
      "1422616\t\t2.35588e-08\n",
      "800000\t\t2.16605e-08\n",
      "449872\t\t2.21916e-08\n",
      "252976\t\t2.36025e-08\n",
      "142256\t\t2.68229e-08\n",
      "80000\t\t2.25969e-08\n",
      "44984\t\t2.18388e-08\n",
      "25296\t\t2.14096e-08\n",
      "14224\t\t2.41201e-08\n",
      "Pool Size =  5\n",
      "chunk size\t time per element\n",
      "80000000\t\t2.5047e-08\n",
      "44987304\t\t2.08985e-08\n",
      "25298216\t\t2.19263e-08\n",
      "14226232\t\t2.36921e-08\n",
      "8000000\t\t2.74549e-08\n",
      "4498728\t\t2.41825e-08\n",
      "2529816\t\t2.36501e-08\n",
      "1422616\t\t2.42689e-08\n",
      "800000\t\t2.20176e-08\n",
      "449872\t\t2.28015e-08\n",
      "252976\t\t2.37532e-08\n",
      "142256\t\t2.69443e-08\n",
      "80000\t\t2.2216e-08\n",
      "44984\t\t1.89416e-08\n",
      "25296\t\t2.16222e-08\n",
      "14224\t\t2.2944e-08\n",
      "Pool Size =  6\n",
      "chunk size\t time per element\n",
      "80000000\t\t2.4033e-08\n",
      "44987304\t\t2.02097e-08\n",
      "25298216\t\t2.36137e-08\n",
      "14226232\t\t2.38764e-08\n",
      "8000000\t\t2.67326e-08\n",
      "4498728\t\t2.32909e-08\n",
      "2529816\t\t2.04886e-08\n",
      "1422616\t\t2.28846e-08\n",
      "800000\t\t2.35866e-08\n",
      "449872\t\t2.18945e-08\n",
      "252976\t\t2.40035e-08\n",
      "142256\t\t2.61495e-08\n",
      "80000\t\t2.24723e-08\n",
      "44984\t\t2.26205e-08\n",
      "25296\t\t2.6448e-08\n",
      "14224\t\t3.06817e-08\n",
      "Pool Size =  7\n",
      "chunk size\t time per element\n",
      "80000000\t\t2.61203e-08\n",
      "44987304\t\t2.32663e-08\n",
      "25298216\t\t2.64017e-08\n",
      "14226232\t\t2.33717e-08\n",
      "8000000\t\t2.48576e-08\n",
      "4498728\t\t2.33143e-08\n",
      "2529816\t\t2.06179e-08\n",
      "1422616\t\t2.12708e-08\n",
      "800000\t\t2.25839e-08\n",
      "449872\t\t2.18646e-08\n",
      "252976\t\t2.32558e-08\n",
      "142256\t\t2.65764e-08\n",
      "80000\t\t2.20879e-08\n",
      "44984\t\t1.83435e-08\n",
      "25296\t\t2.17664e-08\n",
      "14224\t\t2.1938e-08\n",
      "Pool Size =  8\n",
      "chunk size\t time per element\n",
      "80000000\t\t2.52003e-08\n",
      "44987304\t\t2.05568e-08\n",
      "25298216\t\t2.44724e-08\n",
      "14226232\t\t2.1055e-08\n",
      "8000000\t\t2.47993e-08\n",
      "4498728\t\t2.59209e-08\n",
      "2529816\t\t2.17551e-08\n",
      "1422616\t\t2.1935e-08\n",
      "800000\t\t2.07382e-08\n",
      "449872\t\t2.15092e-08\n",
      "252976\t\t2.48446e-08\n",
      "142256\t\t2.64436e-08\n",
      "80000\t\t2.22758e-08\n",
      "44984\t\t2.0335e-08\n",
      "25296\t\t2.22448e-08\n",
      "14224\t\t2.46668e-08\n",
      "Pool Size =  9\n",
      "chunk size\t time per element\n",
      "80000000\t\t2.55026e-08\n",
      "44987304\t\t2.3239e-08\n",
      "25298216\t\t2.20433e-08\n",
      "14226232\t\t2.21416e-08\n",
      "8000000\t\t2.19426e-08\n",
      "4498728\t\t2.44041e-08\n",
      "2529816\t\t2.19817e-08\n",
      "1422616\t\t2.16805e-08\n",
      "800000\t\t2.11107e-08\n",
      "449872\t\t2.17074e-08\n",
      "252976\t\t2.28928e-08\n",
      "142256\t\t2.62944e-08\n",
      "80000\t\t2.4153e-08\n",
      "44984\t\t1.9315e-08\n",
      "25296\t\t2.2492e-08\n",
      "14224\t\t2.46934e-08\n",
      "In [71] used 66.7969 MiB RAM in 360.69s, peaked 1778.61 MiB above current, total RAM usage 2289.31 MiB\n"
     ]
    }
   ],
   "source": [
    "times={}\n",
    "for ps in range(1,10):\n",
    "    print 'Pool Size = ',ps\n",
    "    print 'chunk size\\t time per element'\n",
    "    p=Pool(ps)\n",
    "    times[ps]=[]\n",
    "    for e in vals:\n",
    "        chunk=int(L*10**(-e))\n",
    "        t1=time()\n",
    "        X=p.map(selfdot,[np.arange(i,i+chunk-1) for i in xrange(0,L,chunk)])\n",
    "        t2=time()\n",
    "        ratio=(t2-t1)/L\n",
    "        print '%d\\t\\t%g'%(chunk*8,ratio)\n",
    "        sys.stdout.flush()\n",
    "        times[ps].append(ratio)\n",
    "    p.close()"
   ]
  },
  {
   "cell_type": "code",
   "execution_count": 72,
   "metadata": {
    "collapsed": false
   },
   "outputs": [
    {
     "data": {
      "text/plain": [
       "(16, 16)"
      ]
     },
     "execution_count": 72,
     "metadata": {},
     "output_type": "execute_result"
    },
    {
     "name": "stdout",
     "output_type": "stream",
     "text": [
      "In [72] used -56.0352 MiB RAM in 0.11s, peaked 0.00 MiB above current, total RAM usage 2233.28 MiB\n"
     ]
    }
   ],
   "source": [
    "len(chunks),len(times[1])\n",
    "#plt.plot(chunks,times[1])"
   ]
  },
  {
   "cell_type": "code",
   "execution_count": 79,
   "metadata": {
    "collapsed": false
   },
   "outputs": [
    {
     "data": {
      "text/plain": [
       "<matplotlib.legend.Legend at 0x108de1450>"
      ]
     },
     "execution_count": 79,
     "metadata": {},
     "output_type": "execute_result"
    },
    {
     "data": {
      "image/png": "[encoded data removed]",
      "text/plain": [
       "<matplotlib.figure.Figure at 0x1074e8310>"
      ]
     },
     "metadata": {},
     "output_type": "display_data"
    },
    {
     "name": "stdout",
     "output_type": "stream",
     "text": [
      "In [79] used 3.0820 MiB RAM in 0.63s, peaked 0.00 MiB above current, total RAM usage 2239.18 MiB\n"
     ]
    }
   ],
   "source": [
    "for i in times.keys():\n",
    "    plt.semilogx(chunks,times[i],label=str(i))\n",
    "\n",
    "plt.legend(bbox_to_anchor=(1.05, 1), loc=2, borderaxespad=0.)"
   ]
  },
  {
   "cell_type": "markdown",
   "metadata": {},
   "source": [
    "Significant improvement from 1 to 2, but not much beyond 2.\n",
    "\n",
    "Interesting dip around 5KB, non-monotone behaviour."
   ]
  },
  {
   "cell_type": "code",
   "execution_count": null,
   "metadata": {
    "collapsed": true
   },
   "outputs": [],
   "source": []
  }
 ],
 "metadata": {
  "kernelspec": {
   "display_name": "Python 2",
   "language": "python",
   "name": "python2"
  },
  "language_info": {
   "codemirror_mode": {
    "name": "ipython",
    "version": 2
   },
   "file_extension": ".py",
   "mimetype": "text/x-python",
   "name": "python",
   "nbconvert_exporter": "python",
   "pygments_lexer": "ipython2",
   "version": "2.7.9"
  }
 },
 "nbformat": 4,
 "nbformat_minor": 0
}
