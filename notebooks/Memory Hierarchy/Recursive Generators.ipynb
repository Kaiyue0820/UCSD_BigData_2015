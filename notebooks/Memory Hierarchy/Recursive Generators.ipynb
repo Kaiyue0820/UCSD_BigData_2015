{
 "cells": [
  {
   "cell_type": "code",
   "execution_count": 1,
   "metadata": {
    "collapsed": false
   },
   "outputs": [
    {
     "name": "stdout",
     "output_type": "stream",
     "text": [
      "In [1] used 0.0039 MiB RAM in 0.10s, peaked 0.00 MiB above current, total RAM usage 53.25 MiB\n"
     ]
    }
   ],
   "source": [
    "import sys\n",
    "import numpy as np\n",
    "import matplotlib.pyplot as plt\n",
    "%matplotlib inline\n",
    "\n",
    "from time import time\n",
    "import math\n",
    "import ipython_memory_usage as imu\n",
    "imu.start_watching_memory()"
   ]
  },
  {
   "cell_type": "code",
   "execution_count": 9,
   "metadata": {
    "collapsed": false,
    "scrolled": true
   },
   "outputs": [
    {
     "name": "stdout",
     "output_type": "stream",
     "text": [
      "In [9] used 0.0000 MiB RAM in 0.11s, peaked 0.00 MiB above current, total RAM usage 57.55 MiB\n"
     ]
    }
   ],
   "source": [
    "a=np.random.normal(loc=2,scale=0.1,size=100)"
   ]
  },
  {
   "cell_type": "code",
   "execution_count": 10,
   "metadata": {
    "collapsed": false
   },
   "outputs": [
    {
     "name": "stdout",
     "output_type": "stream",
     "text": [
      "In [10] used 0.0156 MiB RAM in 0.11s, peaked 0.00 MiB above current, total RAM usage 57.57 MiB\n"
     ]
    }
   ],
   "source": [
    "class stream_estimator:\n",
    "    \n",
    "    def __init__(self,ins):\n",
    "        self.n=0; \n",
    "        self.s=0;\n",
    "        self.ins = ins\n",
    "    def mean(self):\n",
    "        for x in self.ins:\n",
    "            self.n+=1\n",
    "            self.s+=x\n",
    "            yield x-(self.s/self.n)\n",
    "    def std(self):\n",
    "        for x in self.ins:\n",
    "            self.n+=1\n",
    "            self.s+=x*x\n",
    "            std=math.sqrt(self.s/self.n)\n",
    "            yield x/std\n",
    "    def getState(self):\n",
    "        return self.n,self.s\n",
    "        "
   ]
  },
  {
   "cell_type": "code",
   "execution_count": 11,
   "metadata": {
    "collapsed": false
   },
   "outputs": [
    {
     "name": "stdout",
     "output_type": "stream",
     "text": [
      "In [11] used 0.0039 MiB RAM in 0.11s, peaked 0.00 MiB above current, total RAM usage 57.57 MiB\n"
     ]
    }
   ],
   "source": [
    "e1=stream_estimator(a)\n",
    "e2=stream_estimator(e1.mean())"
   ]
  },
  {
   "cell_type": "code",
   "execution_count": 12,
   "metadata": {
    "collapsed": false
   },
   "outputs": [
    {
     "name": "stdout",
     "output_type": "stream",
     "text": [
      "In [12] used 0.0000 MiB RAM in 0.10s, peaked 0.00 MiB above current, total RAM usage 57.57 MiB\n"
     ]
    },
    {
     "name": "stderr",
     "output_type": "stream",
     "text": [
      "/anaconda/lib/python2.7/site-packages/IPython/kernel/__main__.py:17: RuntimeWarning: invalid value encountered in double_scalars\n"
     ]
    }
   ],
   "source": [
    "b=[y for y in e2.std()]"
   ]
  },
  {
   "cell_type": "code",
   "execution_count": 13,
   "metadata": {
    "collapsed": false
   },
   "outputs": [
    {
     "data": {
      "text/plain": [
       "[<matplotlib.lines.Line2D at 0x108a8df90>]"
      ]
     },
     "execution_count": 13,
     "metadata": {},
     "output_type": "execute_result"
    },
    {
     "data": {
      "image/png": "[encoded data removed]",
      "text/plain": [
       "<matplotlib.figure.Figure at 0x107200610>"
      ]
     },
     "metadata": {},
     "output_type": "display_data"
    },
    {
     "name": "stdout",
     "output_type": "stream",
     "text": [
      "In [13] used 2.2617 MiB RAM in 0.30s, peaked 0.00 MiB above current, total RAM usage 59.84 MiB\n"
     ]
    }
   ],
   "source": [
    "plt.plot(a)\n",
    "plt.plot(b)"
   ]
  },
  {
   "cell_type": "code",
   "execution_count": 14,
   "metadata": {
    "collapsed": false
   },
   "outputs": [
    {
     "data": {
      "text/plain": [
       "(100, 202.23607750519898)"
      ]
     },
     "execution_count": 14,
     "metadata": {},
     "output_type": "execute_result"
    },
    {
     "name": "stdout",
     "output_type": "stream",
     "text": [
      "In [14] used 0.0000 MiB RAM in 0.10s, peaked 0.00 MiB above current, total RAM usage 59.84 MiB\n"
     ]
    }
   ],
   "source": [
    "e1.getState()"
   ]
  },
  {
   "cell_type": "code",
   "execution_count": 15,
   "metadata": {
    "collapsed": false
   },
   "outputs": [
    {
     "data": {
      "text/plain": [
       "(100, 0.99045475484291245)"
      ]
     },
     "execution_count": 15,
     "metadata": {},
     "output_type": "execute_result"
    },
    {
     "name": "stdout",
     "output_type": "stream",
     "text": [
      "In [15] used 0.0000 MiB RAM in 0.10s, peaked 0.00 MiB above current, total RAM usage 59.84 MiB\n"
     ]
    }
   ],
   "source": [
    "e2.getState()"
   ]
  },
  {
   "cell_type": "code",
   "execution_count": null,
   "metadata": {
    "collapsed": true
   },
   "outputs": [],
   "source": []
  }
 ],
 "metadata": {
  "kernelspec": {
   "display_name": "Python 2",
   "language": "python",
   "name": "python2"
  },
  "language_info": {
   "codemirror_mode": {
    "name": "ipython",
    "version": 2
   },
   "file_extension": ".py",
   "mimetype": "text/x-python",
   "name": "python",
   "nbconvert_exporter": "python",
   "pygments_lexer": "ipython2",
   "version": "2.7.9"
  }
 },
 "nbformat": 4,
 "nbformat_minor": 0
}
