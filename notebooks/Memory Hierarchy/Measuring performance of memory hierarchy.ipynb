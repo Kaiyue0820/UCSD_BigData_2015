{
 "cells": [
  {
   "cell_type": "code",
   "execution_count": 1,
   "metadata": {
    "collapsed": false
   },
   "outputs": [],
   "source": [
    "from numpy import *\n",
    "from matplotlib.pyplot import *\n",
    "from numpy.random import rand\n",
    "import time\n",
    "def measureRandomAccess(size,filename='',k=100000):\n",
    "    \"\"\" Measure the distribution of random accesses in computer memory.\n",
    "    size=size of memory block.\n",
    "    filename= a file that is used as an external buffer. If filename=='' then everything is done in memory.\n",
    "    k = number of times that the experiment is repeated.\n",
    "    output:\n",
    "    mean = the mean of T\n",
    "    std = the std of T\n",
    "    T = a list the contains the times of all k experiments\n",
    "    \"\"\"\n",
    "    # Prepare buffer.\n",
    "    if filename == '':\n",
    "        inmem=True\n",
    "        A=bytearray(size)\n",
    "    else:\n",
    "        inmem=False\n",
    "        file=open(filename,'r+')\n",
    "        \n",
    "    # Read and write k times from/to buffer.\n",
    "    sum=0; sum2=0\n",
    "    T=zeros(k)\n",
    "    for i in range(k):\n",
    "        if (i%10000==0): print i,',',\n",
    "        t=time.time()\n",
    "        loc=int(rand()*size)\n",
    "        if inmem:\n",
    "            x=A[loc:loc+4]\n",
    "            A[loc]=(i % 256)\n",
    "        else:\n",
    "            file.seek(loc)\n",
    "            poke=file.read(1)\n",
    "            file.write(\"test\")\n",
    "        d=time.time()-t\n",
    "        T[i]=d\n",
    "        sum += d\n",
    "        sum2 += d*d\n",
    "    mean=sum/k; var=(sum2/k)-mean**2; std=sqrt(var)\n",
    "    return (mean,std,T)"
   ]
  },
  {
   "cell_type": "code",
   "execution_count": 2,
   "metadata": {
    "collapsed": false
   },
   "outputs": [],
   "source": [
    "from matplotlib.backends.backend_pdf import PdfPages\n",
    "from scipy.special import erf,erfinv\n",
    "\n",
    "def PlotTime(Tsorted,Mean,Std,Color='b',LS='-',Legend=''):\n",
    "    P=arange(1,0,-1.0/k)    # probability \n",
    "    loglog(Tsorted,P,color=Color,label=Legend,linestyle=LS)                 # plot log-log of 1-CDF \n",
    "    \n",
    "    grid()\n",
    "    loglog([Mean,Mean],[1,0.0001],color=Color,linestyle=LS)           # vert line at mean\n",
    "    Y=0.1**((m_i+1.)/2.)\n",
    "    loglog([Mean,min(Mean+Std,1)],[Y,Y],color=Color,linestyle=LS) # horiz line from mean to mean + std\n",
    "        \n",
    "    x=arange(Mean,Mean+Std*erfinv(1.0-1.0/len(Tsorted)),Std/100)  # normal distribution \n",
    "    loglog(x,1-erf((x-Mean)/Std),color=Color,linestyle=LS)"
   ]
  },
  {
   "cell_type": "code",
   "execution_count": 3,
   "metadata": {
    "collapsed": false
   },
   "outputs": [
    {
     "name": "stdout",
     "output_type": "stream",
     "text": [
      "/Users/yoavfreund/logs/1427763099\n"
     ]
    }
   ],
   "source": [
    "#### Careful, this cell will run for a very long time.\n",
    "#jjg - =  # remove this line to run cell\n",
    "\n",
    "n=1000000 # size of single block (1MB)\n",
    "m_list=[1,10,100] #,1000,10000] # size of file in blocks\n",
    "m=None\n",
    "k=100000;\n",
    "L=len(m_list)\n",
    "#print 'n=%d, m=%d,k=%d, m_list=' % (n,m,k),m_list\n",
    "\n",
    "from os.path import isfile,isdir\n",
    "from os import mkdir\n",
    "import os\n",
    "root=os.environ['HOME']\n",
    "log_root=root+'/logs'\n",
    "if not isdir(log_root): mkdir(log_root)\n",
    "TimeStamp=str(int(time.time()))\n",
    "log_dir=log_root+'/'+TimeStamp\n",
    "mkdir(log_dir)\n",
    "%cd $log_dir\n",
    "stat=open('stats.txt','w')\n",
    "\n",
    "def tee(line):\n",
    "    print line\n",
    "    stat.write(line+'\\n')"
   ]
  },
  {
   "cell_type": "code",
   "execution_count": 4,
   "metadata": {
    "collapsed": false
   },
   "outputs": [
    {
     "name": "stdout",
     "output_type": "stream",
     "text": [
      "0 , \n",
      "creating 1000000 byte block: 0.000419, writing 1 blocks 0.003109\n",
      "0 , 10000 , 20000 , 30000 , 40000 , 50000 , 60000 , 70000 , 80000 , 90000 , \n",
      "File pokes mean=6.28523349762e-06, file std=1.05423513254e-05\n",
      "0 , 10000 , 20000 , 30000 , 40000 , 50000 , 60000 , 70000 , 80000 , 90000 , \n",
      "Memory pokes mean=1.0445857048e-06, file std=5.53310540086e-07\n",
      "0 , \n",
      "creating 1000000 byte block: 0.000034, writing 10 blocks 0.052284\n",
      "0 , 10000 , 20000 , 30000 , 40000 , 50000 , 60000 , 70000 , 80000 , 90000 , \n",
      "File pokes mean=6.59244537354e-06, file std=8.53847816397e-06\n",
      "0 , 10000 , 20000 , 30000 , 40000 , 50000 , 60000 , 70000 , 80000 , 90000 , \n",
      "Memory pokes mean=1.118516922e-06, file std=5.80589434037e-07\n",
      "0 , \n",
      "creating 1000000 byte block: 0.000050, writing 100 blocks 0.227990\n",
      "0 , 10000 , 20000 , 30000 , 40000 , 50000 , 60000 , 70000 , 80000 , 90000 , \n",
      "File pokes mean=6.8191242218e-06, file std=6.58162423394e-06\n",
      "0 , 10000 , 20000 , 30000 , 40000 , 50000 , 60000 , 70000 , 80000 , 90000 , \n",
      "Memory pokes mean=1.09655618668e-06, file std=5.71408388195e-07\n"
     ]
    }
   ],
   "source": [
    "#### Careful, this cell will run for a very long time.\n",
    "#jjg - =  # remove this line to run cell\n",
    "\n",
    "def create_file(n,m,filename='DataBlock'):\n",
    "    t1=time.time()\n",
    "    A=bytearray(n)\n",
    "    t2=time.time()\n",
    "    file=open(filename,'w')\n",
    "    for i in range(m):\n",
    "        file.write(A)\n",
    "        if i % 100 == 0:\n",
    "            print i,\",\",\n",
    "    file.close()\n",
    "    t3=time.time()\n",
    "    tee('\\ncreating %d byte block: %f, writing %d blocks %f' % (n,t2-t1,m,t3-t2))\n",
    "    return (t2-t1,t3-t2)\n",
    "\n",
    "means=zeros([2,L])   #0: using disk, 1: using memory\n",
    "std=zeros([2,L])\n",
    "T=zeros([2,L,k])\n",
    "\n",
    "for m_i in range(len(m_list)):\n",
    "    \n",
    "    m=m_list[m_i]\n",
    "    (t_mem,t_disk) = create_file(n,m,filename='BlockData'+str(m))\n",
    "\n",
    "    (means[0,m_i],std[0,m_i],T[0,m_i]) = measureRandomAccess(n*m,filename='BlockData'+str(m),k=k)\n",
    "    tee('\\nFile pokes mean='+str(means[0,m_i])+', file std='+str(std[0,m_i]))\n",
    "\n",
    "    (means[1,m_i],std[1,m_i],T[1,m_i]) = measureRandomAccess(n*m,k=k)\n",
    "    tee('\\nMemory pokes mean='+str(means[1,m_i])+', file std='+str(std[1,m_i]))\n",
    "\n",
    "  "
   ]
  },
  {
   "cell_type": "code",
   "execution_count": 5,
   "metadata": {
    "collapsed": false
   },
   "outputs": [],
   "source": [
    "  \n",
    "    \n",
    "pp = PdfPages('MemoryFigure.pdf')\n",
    "figure(figsize=(6,4))\n",
    "\n",
    "Colors='bgrcmyk'  # The colors for the plot\n",
    "LineStyles=['-',':']\n",
    "Legends=['F','M']\n",
    "\n",
    "fig = matplotlib.pyplot.gcf()\n",
    "fig.set_size_inches(18.5,10.5)\n",
    "\n",
    "for m_i in range(len(m_list)):\n",
    "    Color=Colors[m_i % len(Colors)]\n",
    "    for Type in [0,1]:\n",
    "        PlotTime(sort(T[Type,m_i]),means[Type,m_i],std[Type,m_i],\n",
    "                 Color=Color,LS=LineStyles[Type],Legend=('%dMB-' % m_list[m_i])+Legends[Type])\n",
    "\n",
    "grid()\n",
    "legend(fontsize='medium')\n",
    "xlabel('delay (sec)')\n",
    "ylabel('1-CDF')\n",
    "pp.savefig()\n",
    "pp.close()"
   ]
  },
  {
   "cell_type": "code",
   "execution_count": 6,
   "metadata": {
    "collapsed": false
   },
   "outputs": [
    {
     "data": {
      "text/plain": [
       "array([[[  3.26108932e-03,   2.47955322e-05,   7.86781311e-06, ...,\n",
       "           5.96046448e-06,   6.19888306e-06,   5.96046448e-06],\n",
       "        [  7.54117966e-04,   2.25496292e-03,   2.00271606e-05, ...,\n",
       "           6.91413879e-06,   5.96046448e-06,   6.19888306e-06],\n",
       "        [  2.47955322e-05,   1.19209290e-05,   6.91413879e-06, ...,\n",
       "           5.00679016e-06,   5.96046448e-06,   5.96046448e-06]],\n",
       "\n",
       "       [[  9.05990601e-06,   2.14576721e-06,   9.53674316e-07, ...,\n",
       "           9.53674316e-07,   9.53674316e-07,   0.00000000e+00],\n",
       "        [  1.21593475e-05,   1.90734863e-06,   9.53674316e-07, ...,\n",
       "           9.53674316e-07,   9.53674316e-07,   9.53674316e-07],\n",
       "        [  9.05990601e-06,   1.90734863e-06,   2.14576721e-06, ...,\n",
       "           9.53674316e-07,   9.53674316e-07,   9.53674316e-07]]])"
      ]
     },
     "execution_count": 6,
     "metadata": {},
     "output_type": "execute_result"
    }
   ],
   "source": [
    "T"
   ]
  },
  {
   "cell_type": "code",
   "execution_count": 7,
   "metadata": {
    "collapsed": false
   },
   "outputs": [
    {
     "name": "stdout",
     "output_type": "stream",
     "text": [
      "Consecutive Memory writes\n",
      "array of length 1000 repeated 1 times. total size= 0.001 MB, Time per element= 1.5974e-08\n",
      "array of length 1000 repeated 3 times. total size= 0.003 MB, Time per element= 1.13646e-08\n",
      "array of length 1000 repeated 5 times. total size= 0.005 MB, Time per element= 1.02043e-08\n",
      "array of length 1000 repeated 7 times. total size= 0.007 MB, Time per element= 9.70704e-09\n",
      "array of length 1000 repeated 10 times. total size= 0.010 MB, Time per element= 1.06096e-08\n",
      "array of length 1000 repeated 100 times. total size= 0.100 MB, Time per element= 5.76019e-09\n",
      "array of length 1000 repeated 1000 times. total size= 1.000 MB, Time per element= 5.40495e-09\n",
      "array of length 1000 repeated 10000 times. total size=10.000 MB, Time per element= 5.98199e-09\n",
      "array of length 1000 repeated 100000 times. total size=100.000 MB, Time per element= 8.09567e-09\n",
      "array of length 1000 repeated 1000000 times. total size=1000.000 MB, Time per element= 9.4426e-09\n"
     ]
    }
   ],
   "source": [
    "import time\n",
    "\n",
    "Line='Consecutive Memory writes'\n",
    "print Line; stat.write(Line+'\\n')\n",
    "n=1000\n",
    "r=array(range(n))\n",
    "for m in [1,3,5,7,10,100,1000,10000,100000,1000000]:\n",
    "    t1=time.time()\n",
    "    A=repeat(r,m)\n",
    "    t2=time.time()\n",
    "    tee(\"array of length %d repeated %d times. total size=%6.3f MB, Time per element= %g\" % (n,m,float(n*m)/1000000,(t2-t1)/float(n*m)))\n",
    "A=[];r=[]\n",
    "stat.close()"
   ]
  },
  {
   "cell_type": "code",
   "execution_count": 8,
   "metadata": {
    "collapsed": false
   },
   "outputs": [],
   "source": [
    "!echo `hostname` > hostname"
   ]
  },
  {
   "cell_type": "code",
   "execution_count": 9,
   "metadata": {
    "collapsed": false
   },
   "outputs": [
    {
     "name": "stdout",
     "output_type": "stream",
     "text": [
      "cat: /proc/cpuinfo: No such file or directory\n",
      "cat: /proc/meminfo: No such file or directory\n"
     ]
    }
   ],
   "source": [
    "!cat /proc/cpuinfo > cpuinfo\n",
    "!cat /proc/meminfo > meminfo"
   ]
  },
  {
   "cell_type": "code",
   "execution_count": 47,
   "metadata": {
    "collapsed": false
   },
   "outputs": [
    {
     "name": "stdout",
     "output_type": "stream",
     "text": [
      "2015-03-30 17:51:00.389 system_profiler[29700:1847232] There was an error parsing the Info.plist for the bundle at URL Contents/Info.plist -- /Library/Application Support/IOXperts/IOXperts Purchase.app\n",
      " The data couldn’t be read because it isn’t in the correct format.\n",
      " <CFBasicHash 0x7ff0e4876990 [0x7fff7692ccf0]>{type = immutable dict, count = 2,\n",
      "entries =>\n",
      "\t0 : <CFString 0x7fff768f7580 [0x7fff7692ccf0]>{contents = \"NSDebugDescription\"} = <CFString 0x7ff0e48233d0 [0x7fff7692ccf0]>{contents = \"Close tag on line 29 does not match open tag dict\"}\n",
      "\t1 : <CFString 0x7fff769045e0 [0x7fff7692ccf0]>{contents = \"kCFPropertyListOldStyleParsingError\"} = Error Domain=NSCocoaErrorDomain Code=3840 \"The data couldn’t be read because it isn’t in the correct format.\" (Malformed data byte group at line 1; invalid hex) UserInfo=0x7ff0e4845710 {NSDebugDescription=Malformed data byte group at line 1; invalid hex}\n",
      "}\n",
      "^C\n"
     ]
    }
   ],
   "source": [
    "!system_profiler >system_profiler.out   # A profiling command for mac"
   ]
  },
  {
   "cell_type": "code",
   "execution_count": 53,
   "metadata": {
    "collapsed": false
   },
   "outputs": [],
   "source": [
    "file=open('system_profiler.out','r')\n",
    "Print_flag=False\n",
    "for line in file.readlines():\n",
    "    if line.startswith('Hardware:'):\n",
    "        Print_flag=True\n",
    "    if Print_flag and line.startswith('Installations:'):\n",
    "        break\n",
    "    if Print_flag:\n",
    "        print line,\n",
    "        "
   ]
  },
  {
   "cell_type": "code",
   "execution_count": 97,
   "metadata": {
    "collapsed": false
   },
   "outputs": [
    {
     "name": "stdout",
     "output_type": "stream",
     "text": [
      "\r\n",
      "creating 1000000 byte block: 0.000821, writing 1 blocks 0.000996\r\n",
      "\r\n",
      "File pokes mean=9.10135030746e-06, file std=0.000185824915081\r\n",
      "\r\n",
      "Memory pokes mean=1.74527168274e-06, file std=5.01469258693e-07\r\n",
      "\r\n",
      "creating 1000000 byte block: 0.000079, writing 10 blocks 0.006422\r\n",
      "\r\n",
      "File pokes mean=8.58283758163e-06, file std=8.08081043866e-07\r\n",
      "\r\n",
      "Memory pokes mean=1.78812265396e-06, file std=4.86007954514e-07\r\n",
      "\r\n",
      "creating 1000000 byte block: 0.000112, writing 100 blocks 0.060451\r\n",
      "\r\n",
      "File pokes mean=8.83054494858e-06, file std=9.63406577187e-07\r\n",
      "\r\n",
      "Memory pokes mean=1.79579257965e-06, file std=4.92295373915e-07\r\n",
      "\r\n",
      "creating 1000000 byte block: 0.000114, writing 1000 blocks 0.608214\r\n",
      "\r\n",
      "File pokes mean=1.00868082047e-05, file std=0.000253716416115\r\n",
      "\r\n",
      "Memory pokes mean=1.82849645615e-06, file std=4.62373951503e-07\r\n",
      "Consecutive Memory writes\r\n",
      "array of length 1000 repeated 1 times. total size= 0.001 MB, Time per element= 1.90735e-08\r\n",
      "array of length 1000 repeated 3 times. total size= 0.003 MB, Time per element= 8.26518e-09\r\n",
      "array of length 1000 repeated 5 times. total size= 0.005 MB, Time per element= 7.00951e-09\r\n",
      "array of length 1000 repeated 7 times. total size= 0.007 MB, Time per element= 1.41348e-08\r\n",
      "array of length 1000 repeated 10 times. total size= 0.010 MB, Time per element= 6.19888e-09\r\n",
      "array of length 1000 repeated 100 times. total size= 0.100 MB, Time per element= 1.0221e-08\r\n",
      "array of length 1000 repeated 1000 times. total size= 1.000 MB, Time per element= 1.00188e-08\r\n",
      "array of length 1000 repeated 10000 times. total size=10.000 MB, Time per element= 1.05831e-08\r\n",
      "array of length 1000 repeated 100000 times. total size=100.000 MB, Time per element= 1.08111e-08\r\n",
      "array of length 1000 repeated 1000000 times. total size=1000.000 MB, Time per element= 1.08459e-08\r\n"
     ]
    }
   ],
   "source": [
    "!cat stats.txt"
   ]
  },
  {
   "cell_type": "code",
   "execution_count": null,
   "metadata": {
    "collapsed": false
   },
   "outputs": [],
   "source": []
  }
 ],
 "metadata": {
  "kernelspec": {
   "display_name": "Python 2",
   "language": "python",
   "name": "python2"
  },
  "language_info": {
   "codemirror_mode": {
    "name": "ipython",
    "version": 2
   },
   "file_extension": ".py",
   "mimetype": "text/x-python",
   "name": "python",
   "nbconvert_exporter": "python",
   "pygments_lexer": "ipython2",
   "version": "2.7.9"
  }
 },
 "nbformat": 4,
 "nbformat_minor": 0
}
