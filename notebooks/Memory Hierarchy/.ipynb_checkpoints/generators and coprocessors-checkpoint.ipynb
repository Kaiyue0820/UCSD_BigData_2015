{
 "cells": [
  {
   "cell_type": "code",
   "execution_count": 8,
   "metadata": {
    "collapsed": false
   },
   "outputs": [
    {
     "name": "stdout",
     "output_type": "stream",
     "text": [
      "In [8] used 0.0469 MiB RAM in 0.12s, peaked 0.00 MiB above current, total RAM usage 54.22 MiB\n",
      "In [8] used 0.0000 MiB RAM in 0.23s, peaked 0.00 MiB above current, total RAM usage 54.22 MiB\n"
     ]
    }
   ],
   "source": [
    "import sys\n",
    "import numpy as np\n",
    "import matplotlib.pyplot as plt\n",
    "%matplotlib inline\n",
    "\n",
    "from time import time\n",
    "import math\n",
    "import ipython_memory_usage as imu\n",
    "imu.start_watching_memory()"
   ]
  },
  {
   "cell_type": "code",
   "execution_count": 2,
   "metadata": {
    "collapsed": false,
    "scrolled": true
   },
   "outputs": [
    {
     "name": "stdout",
     "output_type": "stream",
     "text": [
      "In [2] used 0.0977 MiB RAM in 0.11s, peaked 0.00 MiB above current, total RAM usage 50.38 MiB\n"
     ]
    }
   ],
   "source": [
    "a=np.random.normal(loc=2,scale=0.1,size=100)"
   ]
  },
  {
   "cell_type": "code",
   "execution_count": 3,
   "metadata": {
    "collapsed": false
   },
   "outputs": [
    {
     "name": "stdout",
     "output_type": "stream",
     "text": [
      "In [3] used 0.0156 MiB RAM in 0.11s, peaked 0.00 MiB above current, total RAM usage 50.39 MiB\n"
     ]
    }
   ],
   "source": [
    "class stream_estimator:\n",
    "    \n",
    "    def __init__(self,ins):\n",
    "        self.n=0; \n",
    "        self.s=0;\n",
    "        self.ins = ins\n",
    "    def mean(self):\n",
    "        for x in self.ins:\n",
    "            self.n+=1\n",
    "            self.s+=x\n",
    "            yield x-(self.s/self.n)\n",
    "    def std(self):\n",
    "        for x in self.ins:\n",
    "            self.n+=1\n",
    "            self.s+=x*x\n",
    "            std=math.sqrt(self.s/self.n)\n",
    "            yield x/std\n",
    "    def getState(self):\n",
    "        return self.n,self.s\n",
    "        "
   ]
  },
  {
   "cell_type": "code",
   "execution_count": 4,
   "metadata": {
    "collapsed": false
   },
   "outputs": [
    {
     "name": "stdout",
     "output_type": "stream",
     "text": [
      "In [4] used 0.0039 MiB RAM in 0.11s, peaked 0.00 MiB above current, total RAM usage 50.39 MiB\n"
     ]
    }
   ],
   "source": [
    "e1=stream_estimator(a)\n",
    "e2=stream_estimator(e1.mean())"
   ]
  },
  {
   "cell_type": "code",
   "execution_count": 5,
   "metadata": {
    "collapsed": false
   },
   "outputs": [
    {
     "name": "stdout",
     "output_type": "stream",
     "text": [
      "In [5] used 0.0039 MiB RAM in 0.11s, peaked 0.00 MiB above current, total RAM usage 50.40 MiB\n"
     ]
    },
    {
     "name": "stderr",
     "output_type": "stream",
     "text": [
      "/anaconda/lib/python2.7/site-packages/IPython/kernel/__main__.py:17: RuntimeWarning: invalid value encountered in double_scalars\n"
     ]
    }
   ],
   "source": [
    "b=[y for y in e2.std()]"
   ]
  },
  {
   "cell_type": "code",
   "execution_count": 6,
   "metadata": {
    "collapsed": false
   },
   "outputs": [
    {
     "data": {
      "text/plain": [
       "[<matplotlib.lines.Line2D at 0x108632310>]"
      ]
     },
     "execution_count": 6,
     "metadata": {},
     "output_type": "execute_result"
    },
    {
     "data": {
      "image/png": "[encoded data removed]",
      "text/plain": [
       "<matplotlib.figure.Figure at 0x1068fdf90>"
      ]
     },
     "metadata": {},
     "output_type": "display_data"
    },
    {
     "name": "stdout",
     "output_type": "stream",
     "text": [
      "In [6] used 3.7578 MiB RAM in 0.30s, peaked 0.00 MiB above current, total RAM usage 54.16 MiB\n"
     ]
    }
   ],
   "source": [
    "plt.plot(a)\n",
    "plt.plot(b)"
   ]
  },
  {
   "cell_type": "code",
   "execution_count": 14,
   "metadata": {
    "collapsed": false
   },
   "outputs": [
    {
     "data": {
      "text/plain": [
       "(100, 202.23607750519898)"
      ]
     },
     "execution_count": 14,
     "metadata": {},
     "output_type": "execute_result"
    },
    {
     "name": "stdout",
     "output_type": "stream",
     "text": [
      "In [14] used 0.0000 MiB RAM in 0.10s, peaked 0.00 MiB above current, total RAM usage 59.84 MiB\n"
     ]
    }
   ],
   "source": []
  },
  {
   "cell_type": "code",
   "execution_count": 15,
   "metadata": {
    "collapsed": false
   },
   "outputs": [
    {
     "data": {
      "text/plain": [
       "(100, 0.99045475484291245)"
      ]
     },
     "execution_count": 15,
     "metadata": {},
     "output_type": "execute_result"
    },
    {
     "name": "stdout",
     "output_type": "stream",
     "text": [
      "In [15] used 0.0000 MiB RAM in 0.10s, peaked 0.00 MiB above current, total RAM usage 59.84 MiB\n"
     ]
    }
   ],
   "source": [
    "e2.getState()"
   ]
  },
  {
   "cell_type": "code",
   "execution_count": 7,
   "metadata": {
    "collapsed": false
   },
   "outputs": [
    {
     "name": "stdout",
     "output_type": "stream",
     "text": [
      "Looking for python\n",
      "python generators rock!\n",
      "In [7] used 0.0195 MiB RAM in 0.11s, peaked 0.00 MiB above current, total RAM usage 54.18 MiB\n"
     ]
    }
   ],
   "source": [
    "# coroutine.py\n",
    "#\n",
    "# A decorator function that takes care of starting a coroutine\n",
    "# automatically on call.\n",
    "\n",
    "def coroutine(func):\n",
    "    def start(*args,**kwargs):\n",
    "        cr = func(*args,**kwargs)\n",
    "        cr.next()\n",
    "        return cr\n",
    "    return start\n",
    "\n",
    "# Example use\n",
    "if __name__ == '__main__':\n",
    "    @coroutine\n",
    "    def grep(pattern):\n",
    "        print \"Looking for %s\" % pattern\n",
    "        while True:\n",
    "            line = (yield)\n",
    "            if pattern in line:\n",
    "                print line,\n",
    "\n",
    "    g = grep(\"python\")\n",
    "    # Notice how you don't need a next() call here\n",
    "    g.send(\"Yeah, but no, but yeah, but no\")\n",
    "    g.send(\"A series of tubes\")\n",
    "    g.send(\"python generators rock!\")"
   ]
  },
  {
   "cell_type": "code",
   "execution_count": null,
   "metadata": {
    "collapsed": true
   },
   "outputs": [],
   "source": [
    "class estimator:\n",
    "    @coroutine\n",
    "    def average(alpha=0,target):\n",
    "        n=0; s=0\n",
    "        while True:\n",
    "            chunk=(yield)\n",
    "            a.np.cums\n",
    "            "
   ]
  }
 ],
 "metadata": {
  "kernelspec": {
   "display_name": "Python 2",
   "language": "python",
   "name": "python2"
  },
  "language_info": {
   "codemirror_mode": {
    "name": "ipython",
    "version": 2
   },
   "file_extension": ".py",
   "mimetype": "text/x-python",
   "name": "python",
   "nbconvert_exporter": "python",
   "pygments_lexer": "ipython2",
   "version": "2.7.9"
  }
 },
 "nbformat": 4,
 "nbformat_minor": 0
}
