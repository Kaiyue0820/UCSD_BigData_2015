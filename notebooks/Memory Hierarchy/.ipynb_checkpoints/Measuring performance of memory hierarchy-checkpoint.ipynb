{
 "cells": [
  {
   "cell_type": "code",
   "execution_count": 6,
   "metadata": {
    "collapsed": false
   },
   "outputs": [],
   "source": [
    "from numpy import *\n",
    "import time\n",
    "def measureRandomAccess(size,filename='',k=100000):\n",
    "    \"\"\" Measure the distribution of random accesses in computer memory.\n",
    "    size=size of memory block.\n",
    "    filename= a file that is used as an external buffer. If filename=='' then everything is done in memory.\n",
    "    k = number of times that the experiment is repeated.\n",
    "    output:\n",
    "    mean = the mean of T\n",
    "    std = the std of T\n",
    "    T = a list the contains the times of all k experiments\n",
    "    \"\"\"\n",
    "    # Prepare buffer.\n",
    "    if filename == '':\n",
    "        inmem=True\n",
    "        A=bytearray(size)\n",
    "    else:\n",
    "        inmem=False\n",
    "        file=open(filename,'r+')\n",
    "        \n",
    "    # Read and write k times from/to buffer.\n",
    "    sum=0; sum2=0\n",
    "    T=zeros(k)\n",
    "    for i in range(k):\n",
    "        if (i%10000==0): print i,',',\n",
    "        t=time.time()\n",
    "        loc=int(rand()*size)\n",
    "        if inmem:\n",
    "            x=A[loc:loc+4]\n",
    "            A[loc]=(i % 256)\n",
    "        else:\n",
    "            file.seek(loc)\n",
    "            poke=file.read(1)\n",
    "            file.write(\"test\")\n",
    "        d=time.time()-t\n",
    "        T[i]=d\n",
    "        sum += d\n",
    "        sum2 += d*d\n",
    "    mean=sum/k; var=(sum2/k)-mean**2; std=sqrt(var)\n",
    "    return (mean,std,T)"
   ]
  },
  {
   "cell_type": "code",
   "execution_count": 10,
   "metadata": {
    "collapsed": false
   },
   "outputs": [],
   "source": [
    "from matplotlib.backends.backend_pdf import PdfPages\n",
    "from scipy.special import erf,erfinv\n",
    "\n",
    "def PlotTime(Tsorted,Mean,Std,Color='b',LS='-',Legend=''):\n",
    "    P=arange(1,0,-1.0/k)    # probability \n",
    "    loglog(Tsorted,P,color=Color,label=Legend,linestyle=LS)                 # plot log-log of 1-CDF \n",
    "    \n",
    "    grid()\n",
    "    loglog([Mean,Mean],[1,0.0001],color=Color,linestyle=LS)           # vert line at mean\n",
    "    Y=0.1**((m_i+1.)/2.)\n",
    "    loglog([Mean,min(Mean+Std,1)],[Y,Y],color=Color,linestyle=LS) # horiz line from mean to mean + std\n",
    "        \n",
    "    x=arange(Mean,Mean+Std*erfinv(1.0-1.0/len(Tsorted)),Std/100)  # normal distribution \n",
    "    loglog(x,1-erf((x-Mean)/Std),color=Color,linestyle=LS)"
   ]
  },
  {
   "cell_type": "code",
   "execution_count": 11,
   "metadata": {
    "collapsed": false
   },
   "outputs": [
    {
     "name": "stdout",
     "output_type": "stream",
     "text": [
      "/Users/yoavfreund/logs/1427761950\n"
     ]
    }
   ],
   "source": [
    "n=1000000 # size of single block (1MB)\n",
    "m_list=[1,10,100,1000,10000] # size of file in blocks\n",
    "m=None\n",
    "k=100000;\n",
    "L=len(m_list)\n",
    "#print 'n=%d, m=%d,k=%d, m_list=' % (n,m,k),m_list\n",
    "\n",
    "from os.path import isfile,isdir\n",
    "from os import mkdir\n",
    "import os\n",
    "root=os.environ['HOME']\n",
    "log_root=root+'/logs'\n",
    "if not isdir(log_root): mkdir(log_root)\n",
    "TimeStamp=str(int(time.time()))\n",
    "log_dir=log_root+'/'+TimeStamp\n",
    "mkdir(log_dir)\n",
    "%cd $log_dir\n",
    "stat=open('stats.txt','w')\n",
    "\n",
    "def tee(line):\n",
    "    print line\n",
    "    stat.write(line+'\\n')"
   ]
  },
  {
   "cell_type": "code",
   "execution_count": 12,
   "metadata": {
    "collapsed": false
   },
   "outputs": [
    {
     "name": "stdout",
     "output_type": "stream",
     "text": [
      "0 , \n",
      "creating 1000000 byte block: 0.000039, writing 1 blocks 0.004791\n"
     ]
    },
    {
     "ename": "NameError",
     "evalue": "global name 'np' is not defined",
     "output_type": "error",
     "traceback": [
      "\u001b[0;31m---------------------------------------------------------------------------\u001b[0m",
      "\u001b[0;31mNameError\u001b[0m                                 Traceback (most recent call last)",
      "\u001b[0;32m<ipython-input-12-63f4e9764b34>\u001b[0m in \u001b[0;36m<module>\u001b[0;34m()\u001b[0m\n\u001b[1;32m     22\u001b[0m     \u001b[0;34m(\u001b[0m\u001b[0mt_mem\u001b[0m\u001b[0;34m,\u001b[0m\u001b[0mt_disk\u001b[0m\u001b[0;34m)\u001b[0m \u001b[0;34m=\u001b[0m \u001b[0mcreate_file\u001b[0m\u001b[0;34m(\u001b[0m\u001b[0mn\u001b[0m\u001b[0;34m,\u001b[0m\u001b[0mm\u001b[0m\u001b[0;34m,\u001b[0m\u001b[0mfilename\u001b[0m\u001b[0;34m=\u001b[0m\u001b[0;34m'BlockData'\u001b[0m\u001b[0;34m+\u001b[0m\u001b[0mstr\u001b[0m\u001b[0;34m(\u001b[0m\u001b[0mm\u001b[0m\u001b[0;34m)\u001b[0m\u001b[0;34m)\u001b[0m\u001b[0;34m\u001b[0m\u001b[0m\n\u001b[1;32m     23\u001b[0m \u001b[0;34m\u001b[0m\u001b[0m\n\u001b[0;32m---> 24\u001b[0;31m     \u001b[0;34m(\u001b[0m\u001b[0mmean\u001b[0m\u001b[0;34m[\u001b[0m\u001b[0;36m0\u001b[0m\u001b[0;34m,\u001b[0m\u001b[0mm_i\u001b[0m\u001b[0;34m]\u001b[0m\u001b[0;34m,\u001b[0m\u001b[0mstd\u001b[0m\u001b[0;34m[\u001b[0m\u001b[0;36m0\u001b[0m\u001b[0;34m,\u001b[0m\u001b[0mm_i\u001b[0m\u001b[0;34m]\u001b[0m\u001b[0;34m,\u001b[0m\u001b[0mT\u001b[0m\u001b[0;34m[\u001b[0m\u001b[0;36m0\u001b[0m\u001b[0;34m,\u001b[0m\u001b[0mm_i\u001b[0m\u001b[0;34m]\u001b[0m\u001b[0;34m)\u001b[0m \u001b[0;34m=\u001b[0m \u001b[0mmeasureRandomAccess\u001b[0m\u001b[0;34m(\u001b[0m\u001b[0mn\u001b[0m\u001b[0;34m*\u001b[0m\u001b[0mm\u001b[0m\u001b[0;34m,\u001b[0m\u001b[0mfilename\u001b[0m\u001b[0;34m=\u001b[0m\u001b[0;34m'BlockData'\u001b[0m\u001b[0;34m+\u001b[0m\u001b[0mstr\u001b[0m\u001b[0;34m(\u001b[0m\u001b[0mm\u001b[0m\u001b[0;34m)\u001b[0m\u001b[0;34m,\u001b[0m\u001b[0mk\u001b[0m\u001b[0;34m=\u001b[0m\u001b[0mk\u001b[0m\u001b[0;34m)\u001b[0m\u001b[0;34m\u001b[0m\u001b[0m\n\u001b[0m\u001b[1;32m     25\u001b[0m     \u001b[0mtee\u001b[0m\u001b[0;34m(\u001b[0m\u001b[0;34m'\\nFile pokes mean='\u001b[0m\u001b[0;34m+\u001b[0m\u001b[0mstr\u001b[0m\u001b[0;34m(\u001b[0m\u001b[0mmean\u001b[0m\u001b[0;34m[\u001b[0m\u001b[0;36m0\u001b[0m\u001b[0;34m,\u001b[0m\u001b[0mm_i\u001b[0m\u001b[0;34m]\u001b[0m\u001b[0;34m)\u001b[0m\u001b[0;34m+\u001b[0m\u001b[0;34m', file std='\u001b[0m\u001b[0;34m+\u001b[0m\u001b[0mstr\u001b[0m\u001b[0;34m(\u001b[0m\u001b[0mstd\u001b[0m\u001b[0;34m[\u001b[0m\u001b[0;36m0\u001b[0m\u001b[0;34m,\u001b[0m\u001b[0mm_i\u001b[0m\u001b[0;34m]\u001b[0m\u001b[0;34m)\u001b[0m\u001b[0;34m)\u001b[0m\u001b[0;34m\u001b[0m\u001b[0m\n\u001b[1;32m     26\u001b[0m \u001b[0;34m\u001b[0m\u001b[0m\n",
      "\u001b[0;32m<ipython-input-6-9f32309260d0>\u001b[0m in \u001b[0;36mmeasureRandomAccess\u001b[0;34m(size, filename, k)\u001b[0m\n\u001b[1;32m     21\u001b[0m     \u001b[0;31m# Read and write k times from/to buffer.\u001b[0m\u001b[0;34m\u001b[0m\u001b[0;34m\u001b[0m\u001b[0m\n\u001b[1;32m     22\u001b[0m     \u001b[0msum\u001b[0m\u001b[0;34m=\u001b[0m\u001b[0;36m0\u001b[0m\u001b[0;34m;\u001b[0m \u001b[0msum2\u001b[0m\u001b[0;34m=\u001b[0m\u001b[0;36m0\u001b[0m\u001b[0;34m\u001b[0m\u001b[0m\n\u001b[0;32m---> 23\u001b[0;31m     \u001b[0mT\u001b[0m\u001b[0;34m=\u001b[0m\u001b[0mnp\u001b[0m\u001b[0;34m.\u001b[0m\u001b[0mzeros\u001b[0m\u001b[0;34m(\u001b[0m\u001b[0mk\u001b[0m\u001b[0;34m)\u001b[0m\u001b[0;34m\u001b[0m\u001b[0m\n\u001b[0m\u001b[1;32m     24\u001b[0m     \u001b[0;32mfor\u001b[0m \u001b[0mi\u001b[0m \u001b[0;32min\u001b[0m \u001b[0mrange\u001b[0m\u001b[0;34m(\u001b[0m\u001b[0mk\u001b[0m\u001b[0;34m)\u001b[0m\u001b[0;34m:\u001b[0m\u001b[0;34m\u001b[0m\u001b[0m\n\u001b[1;32m     25\u001b[0m         \u001b[0;32mif\u001b[0m \u001b[0;34m(\u001b[0m\u001b[0mi\u001b[0m\u001b[0;34m%\u001b[0m\u001b[0;36m10000\u001b[0m\u001b[0;34m==\u001b[0m\u001b[0;36m0\u001b[0m\u001b[0;34m)\u001b[0m\u001b[0;34m:\u001b[0m \u001b[0;32mprint\u001b[0m \u001b[0mi\u001b[0m\u001b[0;34m,\u001b[0m\u001b[0;34m','\u001b[0m\u001b[0;34m,\u001b[0m\u001b[0;34m\u001b[0m\u001b[0m\n",
      "\u001b[0;31mNameError\u001b[0m: global name 'np' is not defined"
     ]
    }
   ],
   "source": [
    "def create_file(n,m,filename='DataBlock'):\n",
    "    t1=time.time()\n",
    "    A=bytearray(n)\n",
    "    t2=time.time()\n",
    "    file=open(filename,'w')\n",
    "    for i in range(m):\n",
    "        file.write(A)\n",
    "        if i % 100 == 0:\n",
    "            print i,\",\",\n",
    "    file.close()\n",
    "    t3=time.time()\n",
    "    tee('\\ncreating %d byte block: %f, writing %d blocks %f' % (n,t2-t1,m,t3-t2))\n",
    "    return (t2-t1,t3-t2)\n",
    "\n",
    "mean=zeros([2,L])   #0: using disk, 1: using memory\n",
    "std=zeros([2,L])\n",
    "T=zeros([2,L,k])\n",
    "\n",
    "for m_i in range(len(m_list)):\n",
    "    \n",
    "    m=m_list[m_i]\n",
    "    (t_mem,t_disk) = create_file(n,m,filename='BlockData'+str(m))\n",
    "\n",
    "    (mean[0,m_i],std[0,m_i],T[0,m_i]) = measureRandomAccess(n*m,filename='BlockData'+str(m),k=k)\n",
    "    tee('\\nFile pokes mean='+str(mean[0,m_i])+', file std='+str(std[0,m_i]))\n",
    "\n",
    "    (mean[1,m_i],std[1,m_i],T[1,m_i]) = measureRandomAccess(n*m,k=k)\n",
    "    tee('\\nMemory pokes mean='+str(mean[1,m_i])+', file std='+str(std[1,m_i]))\n",
    "\n",
    "pp = PdfPages('MemoryFigure.pdf')\n",
    "figure(figsize=(6,4))\n",
    "\n",
    "Colors='bgrcmyk'  # The colors for the plot\n",
    "LineStyles=['-',':']\n",
    "Legends=['F','M']\n",
    "\n",
    "fig = matplotlib.pyplot.gcf()\n",
    "fig.set_size_inches(18.5,10.5)\n",
    "\n",
    "for m_i in range(len(m_list)):\n",
    "    Color=Colors[m_i % len(Colors)]\n",
    "    for Type in [0,1]:\n",
    "        PlotTime(sort(T[Type,m_i]),mean[Type,m_i],std[Type,m_i],\n",
    "                 Color=Color,LS=LineStyles[Type],Legend=('%dMB-' % m_list[m_i])+Legends[Type])\n",
    "\n",
    "grid()\n",
    "legend(fontsize='medium')\n",
    "xlabel('delay (sec)')\n",
    "ylabel('1-CDF')\n",
    "pp.savefig()\n",
    "pp.close()"
   ]
  },
  {
   "cell_type": "code",
   "execution_count": 92,
   "metadata": {
    "collapsed": false
   },
   "outputs": [
    {
     "name": "stdout",
     "output_type": "stream",
     "text": [
      "Consecutive Memory writes\n",
      "array of length 1000 repeated 1 times. total size= 0.001 MB, Time per element= 1.90735e-08\n",
      "array of length 1000 repeated 3 times. total size= 0.003 MB, Time per element= 8.26518e-09\n",
      "array of length 1000 repeated 5 times. total size= 0.005 MB, Time per element= 7.00951e-09\n",
      "array of length 1000 repeated 7 times. total size= 0.007 MB, Time per element= 1.41348e-08\n",
      "array of length 1000 repeated 10 times. total size= 0.010 MB, Time per element= 6.19888e-09\n",
      "array of length 1000 repeated 100 times. total size= 0.100 MB, Time per element= 1.0221e-08\n",
      "array of length 1000 repeated 1000 times. total size= 1.000 MB, Time per element= 1.00188e-08\n",
      "array of length 1000 repeated 10000 times. total size=10.000 MB, Time per element= 1.05831e-08\n",
      "array of length 1000 repeated 100000 times. total size=100.000 MB, Time per element= 1.08111e-08\n",
      "array of length 1000 repeated 1000000 times. total size=1000.000 MB, Time per element= 1.08459e-08\n"
     ]
    }
   ],
   "source": [
    "import time\n",
    "\n",
    "Line='Consecutive Memory writes'\n",
    "print Line; stat.write(Line+'\\n')\n",
    "n=1000\n",
    "r=array(range(n))\n",
    "for m in [1,3,5,7,10,100,1000,10000,100000,1000000]:\n",
    "    t1=time.time()\n",
    "    A=repeat(r,m)\n",
    "    t2=time.time()\n",
    "    tee(\"array of length %d repeated %d times. total size=%6.3f MB, Time per element= %g\" % (n,m,float(n*m)/1000000,(t2-t1)/float(n*m)))\n",
    "A=[];r=[]\n",
    "stat.close()"
   ]
  },
  {
   "cell_type": "code",
   "execution_count": 94,
   "metadata": {
    "collapsed": false
   },
   "outputs": [],
   "source": [
    "!echo `hostname` > hostname"
   ]
  },
  {
   "cell_type": "code",
   "execution_count": 95,
   "metadata": {
    "collapsed": false
   },
   "outputs": [],
   "source": [
    "!cat /proc/cpuinfo > cpuinfo\n",
    "!cat /proc/meminfo > meminfo"
   ]
  },
  {
   "cell_type": "code",
   "execution_count": 52,
   "metadata": {
    "collapsed": false
   },
   "outputs": [
    {
     "name": "stdout",
     "output_type": "stream",
     "text": [
      "/bin/sh: 1: system_profiler: not found\r\n"
     ]
    }
   ],
   "source": [
    "!system_profiler >system_profiler.out   # A profiling command for mac"
   ]
  },
  {
   "cell_type": "code",
   "execution_count": 53,
   "metadata": {
    "collapsed": false
   },
   "outputs": [],
   "source": [
    "file=open('system_profiler.out','r')\n",
    "Print_flag=False\n",
    "for line in file.readlines():\n",
    "    if line.startswith('Hardware:'):\n",
    "        Print_flag=True\n",
    "    if Print_flag and line.startswith('Installations:'):\n",
    "        break\n",
    "    if Print_flag:\n",
    "        print line,\n",
    "        "
   ]
  },
  {
   "cell_type": "code",
   "execution_count": 97,
   "metadata": {
    "collapsed": false
   },
   "outputs": [
    {
     "name": "stdout",
     "output_type": "stream",
     "text": [
      "\r\n",
      "creating 1000000 byte block: 0.000821, writing 1 blocks 0.000996\r\n",
      "\r\n",
      "File pokes mean=9.10135030746e-06, file std=0.000185824915081\r\n",
      "\r\n",
      "Memory pokes mean=1.74527168274e-06, file std=5.01469258693e-07\r\n",
      "\r\n",
      "creating 1000000 byte block: 0.000079, writing 10 blocks 0.006422\r\n",
      "\r\n",
      "File pokes mean=8.58283758163e-06, file std=8.08081043866e-07\r\n",
      "\r\n",
      "Memory pokes mean=1.78812265396e-06, file std=4.86007954514e-07\r\n",
      "\r\n",
      "creating 1000000 byte block: 0.000112, writing 100 blocks 0.060451\r\n",
      "\r\n",
      "File pokes mean=8.83054494858e-06, file std=9.63406577187e-07\r\n",
      "\r\n",
      "Memory pokes mean=1.79579257965e-06, file std=4.92295373915e-07\r\n",
      "\r\n",
      "creating 1000000 byte block: 0.000114, writing 1000 blocks 0.608214\r\n",
      "\r\n",
      "File pokes mean=1.00868082047e-05, file std=0.000253716416115\r\n",
      "\r\n",
      "Memory pokes mean=1.82849645615e-06, file std=4.62373951503e-07\r\n",
      "Consecutive Memory writes\r\n",
      "array of length 1000 repeated 1 times. total size= 0.001 MB, Time per element= 1.90735e-08\r\n",
      "array of length 1000 repeated 3 times. total size= 0.003 MB, Time per element= 8.26518e-09\r\n",
      "array of length 1000 repeated 5 times. total size= 0.005 MB, Time per element= 7.00951e-09\r\n",
      "array of length 1000 repeated 7 times. total size= 0.007 MB, Time per element= 1.41348e-08\r\n",
      "array of length 1000 repeated 10 times. total size= 0.010 MB, Time per element= 6.19888e-09\r\n",
      "array of length 1000 repeated 100 times. total size= 0.100 MB, Time per element= 1.0221e-08\r\n",
      "array of length 1000 repeated 1000 times. total size= 1.000 MB, Time per element= 1.00188e-08\r\n",
      "array of length 1000 repeated 10000 times. total size=10.000 MB, Time per element= 1.05831e-08\r\n",
      "array of length 1000 repeated 100000 times. total size=100.000 MB, Time per element= 1.08111e-08\r\n",
      "array of length 1000 repeated 1000000 times. total size=1000.000 MB, Time per element= 1.08459e-08\r\n"
     ]
    }
   ],
   "source": [
    "!cat stats.txt"
   ]
  },
  {
   "cell_type": "code",
   "execution_count": null,
   "metadata": {
    "collapsed": false
   },
   "outputs": [],
   "source": []
  }
 ],
 "metadata": {
  "kernelspec": {
   "display_name": "Python 2",
   "language": "python",
   "name": "python2"
  },
  "language_info": {
   "codemirror_mode": {
    "name": "ipython",
    "version": 2
   },
   "file_extension": ".py",
   "mimetype": "text/x-python",
   "name": "python",
   "nbconvert_exporter": "python",
   "pygments_lexer": "ipython2",
   "version": "2.7.9"
  }
 },
 "nbformat": 4,
 "nbformat_minor": 0
}
